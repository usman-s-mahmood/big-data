{
 "cells": [
  {
   "cell_type": "code",
   "execution_count": null,
   "id": "299aaf71-834f-42cb-9cae-1c098bce4287",
   "metadata": {},
   "outputs": [],
   "source": []
  }
 ],
 "metadata": {
  "kernelspec": {
   "display_name": "Python 3 (ipykernel)",
   "language": "python",
   "name": "python3"
  },
  "language_info": {
   "name": ""
  }
 },
 "nbformat": 4,
 "nbformat_minor": 5
}
