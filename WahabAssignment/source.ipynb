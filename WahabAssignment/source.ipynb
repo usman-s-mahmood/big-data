{
 "cells": [
  {
   "cell_type": "code",
   "execution_count": 8,
   "metadata": {},
   "outputs": [
    {
     "name": "stdout",
     "output_type": "stream",
     "text": [
      "                                           Employees\n",
      "0  {'empId': 'EMP01', 'jobTitle': 'Developer', 'f...\n",
      "1  {'empId': 'EMP02', 'jobTitle': 'Jr. Developer'...\n",
      "2  {'empId': 'EMP03', 'jobTitle': 'Manager', 'fir...\n"
     ]
    },
    {
     "data": {
      "text/plain": [
       "\"\\n\\tEmployees\\n0\\t{'empId': 'EMP01', 'jobTitle': 'Developer', 'firstName': 'Shivang', 'lastName': 'Yadav', 'fullName': 'Shivang Yadav', 'address': 'Indore, MP, India', 'contact': '+91-9999999999', 'email': 'shivang.yadavji@gmail.com'}\\n1\\t{'empId': 'EMP02', 'jobTitle': 'Jr. Developer', 'firstName': 'Alvin', 'lastName': 'Alexander', 'fullName': 'Alvin Alexander', 'address': 'New Delhi, India', 'contact': '+91-9999999999', 'email': 'heyitsalvinalex@gmail.com'}\\n2\\t{'empId': 'EMP03', 'jobTitle': 'Manager', 'firstName': 'Kuldeep', 'lastName': 'Tak', 'fullName': 'Kuldeep Tak', 'address': 'Mumbai, India', 'contact': '+91-9999999999', 'email': 'kdtak13@gmail.com'}\\n\\n\""
      ]
     },
     "execution_count": 8,
     "metadata": {},
     "output_type": "execute_result"
    }
   ],
   "source": [
    "import pandas as pd\n",
    "import numpy as np\n",
    "import matplotlib.pyplot as plt\n",
    "import json\n",
    "\n",
    "def tasks(filename):\n",
    "    dataset = ''\n",
    "    with open(filename) as file:\n",
    "        dataset = pd.read_json(file)\n",
    "    dataframe = pd.read_json(filename)\n",
    "    print(dataframe)\n",
    "\n",
    "def main():\n",
    "    tasks('employees.json')\n",
    "\n",
    "if __name__ == '__main__':\n",
    "    main()\n",
    "    \n",
    "'''\n",
    "\tEmployees\n",
    "0\t{'empId': 'EMP01', 'jobTitle': 'Developer', 'firstName': 'Shivang', 'lastName': 'Yadav', 'fullName': 'Shivang Yadav', 'address': 'Indore, MP, India', 'contact': '+91-9999999999', 'email': 'shivang.yadavji@gmail.com'}\n",
    "1\t{'empId': 'EMP02', 'jobTitle': 'Jr. Developer', 'firstName': 'Alvin', 'lastName': 'Alexander', 'fullName': 'Alvin Alexander', 'address': 'New Delhi, India', 'contact': '+91-9999999999', 'email': 'heyitsalvinalex@gmail.com'}\n",
    "2\t{'empId': 'EMP03', 'jobTitle': 'Manager', 'firstName': 'Kuldeep', 'lastName': 'Tak', 'fullName': 'Kuldeep Tak', 'address': 'Mumbai, India', 'contact': '+91-9999999999', 'email': 'kdtak13@gmail.com'}\n",
    "\n",
    "'''"
   ]
  },
  {
   "cell_type": "code",
   "execution_count": null,
   "metadata": {},
   "outputs": [],
   "source": []
  }
 ],
 "metadata": {
  "kernelspec": {
   "display_name": "Python 3",
   "language": "python",
   "name": "python3"
  },
  "language_info": {
   "codemirror_mode": {
    "name": "ipython",
    "version": 3
   },
   "file_extension": ".py",
   "mimetype": "text/x-python",
   "name": "python",
   "nbconvert_exporter": "python",
   "pygments_lexer": "ipython3",
   "version": "3.12.1"
  }
 },
 "nbformat": 4,
 "nbformat_minor": 2
}
