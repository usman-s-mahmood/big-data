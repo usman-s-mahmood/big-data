{
 "cells": [
  {
   "cell_type": "markdown",
   "id": "76e0c4e2-1927-4a88-88a6-b36b350d2d13",
   "metadata": {},
   "source": [
    "Data grouping using pandas\n"
   ]
  },
  {
   "cell_type": "code",
   "execution_count": 1,
   "id": "448c812e-5bde-4812-b8d1-c5db31b0bb04",
   "metadata": {},
   "outputs": [],
   "source": [
    "import pandas as pd"
   ]
  },
  {
   "cell_type": "code",
   "execution_count": 39,
   "id": "e105d87b-e9fb-4a9f-a553-e9af02808573",
   "metadata": {},
   "outputs": [],
   "source": [
    "d={'name':['ali','umer','huma','iqra','hina','faheem','basit','alia','hira','aoun'],'batch':['2020','2021','2020','2021','2023','2023','2024','2024','2024','2020'],'cgpa':[3.01,2.99,3.7,4,2.1,3.4,2.7,3.8,3.7,2.9],'department':['cs','IT','Dpharm','english','IT','SE','SE','engineering','Dpharm','cs']}"
   ]
  },
  {
   "cell_type": "code",
   "execution_count": 40,
   "id": "899221e6-21ca-4368-bf5a-7817a036f807",
   "metadata": {},
   "outputs": [
    {
     "data": {
      "text/plain": [
       "{'name': ['ali',\n",
       "  'umer',\n",
       "  'huma',\n",
       "  'iqra',\n",
       "  'hina',\n",
       "  'faheem',\n",
       "  'basit',\n",
       "  'alia',\n",
       "  'hira',\n",
       "  'aoun'],\n",
       " 'batch': ['2020',\n",
       "  '2021',\n",
       "  '2020',\n",
       "  '2021',\n",
       "  '2023',\n",
       "  '2023',\n",
       "  '2024',\n",
       "  '2024',\n",
       "  '2024',\n",
       "  '2020'],\n",
       " 'cgpa': [3.01, 2.99, 3.7, 4, 2.1, 3.4, 2.7, 3.8, 3.7, 2.9],\n",
       " 'department': ['cs',\n",
       "  'IT',\n",
       "  'Dpharm',\n",
       "  'english',\n",
       "  'IT',\n",
       "  'SE',\n",
       "  'SE',\n",
       "  'engineering',\n",
       "  'Dpharm',\n",
       "  'cs']}"
      ]
     },
     "execution_count": 40,
     "metadata": {},
     "output_type": "execute_result"
    }
   ],
   "source": [
    "d"
   ]
  },
  {
   "cell_type": "code",
   "execution_count": 41,
   "id": "5c15302f-ffad-4f2d-88e4-4c3b7d86d7d5",
   "metadata": {},
   "outputs": [],
   "source": [
    "df=pd.DataFrame(d)"
   ]
  },
  {
   "cell_type": "code",
   "execution_count": 42,
   "id": "be575390-f86d-489c-aad3-e1448b391abc",
   "metadata": {},
   "outputs": [],
   "source": [
    "p=df.groupby('batch')"
   ]
  },
  {
   "cell_type": "code",
   "execution_count": 43,
   "id": "4509b1c9-443d-4f67-a818-4a34cb092958",
   "metadata": {},
   "outputs": [
    {
     "data": {
      "text/html": [
       "<div>\n",
       "<style scoped>\n",
       "    .dataframe tbody tr th:only-of-type {\n",
       "        vertical-align: middle;\n",
       "    }\n",
       "\n",
       "    .dataframe tbody tr th {\n",
       "        vertical-align: top;\n",
       "    }\n",
       "\n",
       "    .dataframe thead th {\n",
       "        text-align: right;\n",
       "    }\n",
       "</style>\n",
       "<table border=\"1\" class=\"dataframe\">\n",
       "  <thead>\n",
       "    <tr style=\"text-align: right;\">\n",
       "      <th></th>\n",
       "      <th>name</th>\n",
       "      <th>cgpa</th>\n",
       "      <th>department</th>\n",
       "    </tr>\n",
       "    <tr>\n",
       "      <th>batch</th>\n",
       "      <th></th>\n",
       "      <th></th>\n",
       "      <th></th>\n",
       "    </tr>\n",
       "  </thead>\n",
       "  <tbody>\n",
       "    <tr>\n",
       "      <th>2020</th>\n",
       "      <td>ali</td>\n",
       "      <td>3.01</td>\n",
       "      <td>cs</td>\n",
       "    </tr>\n",
       "    <tr>\n",
       "      <th>2021</th>\n",
       "      <td>umer</td>\n",
       "      <td>2.99</td>\n",
       "      <td>IT</td>\n",
       "    </tr>\n",
       "    <tr>\n",
       "      <th>2023</th>\n",
       "      <td>hina</td>\n",
       "      <td>2.10</td>\n",
       "      <td>IT</td>\n",
       "    </tr>\n",
       "    <tr>\n",
       "      <th>2024</th>\n",
       "      <td>basit</td>\n",
       "      <td>2.70</td>\n",
       "      <td>SE</td>\n",
       "    </tr>\n",
       "  </tbody>\n",
       "</table>\n",
       "</div>"
      ],
      "text/plain": [
       "        name  cgpa department\n",
       "batch                        \n",
       "2020     ali  3.01         cs\n",
       "2021    umer  2.99         IT\n",
       "2023    hina  2.10         IT\n",
       "2024   basit  2.70         SE"
      ]
     },
     "execution_count": 43,
     "metadata": {},
     "output_type": "execute_result"
    }
   ],
   "source": [
    "p.first()"
   ]
  },
  {
   "cell_type": "code",
   "execution_count": 44,
   "id": "b9529638-f6fd-41c2-9b15-7aec649e2bc6",
   "metadata": {},
   "outputs": [],
   "source": [
    "p=df.groupby('batch')"
   ]
  },
  {
   "cell_type": "code",
   "execution_count": 45,
   "id": "8c4672b4-bee0-4a62-b3b7-134ed4ef5cfc",
   "metadata": {},
   "outputs": [
    {
     "data": {
      "text/plain": [
       "<pandas.core.groupby.generic.DataFrameGroupBy object at 0x0000022F301D5690>"
      ]
     },
     "execution_count": 45,
     "metadata": {},
     "output_type": "execute_result"
    }
   ],
   "source": [
    "p"
   ]
  },
  {
   "cell_type": "code",
   "execution_count": 46,
   "id": "7c3f0626-03b9-4497-b46b-03067277abbb",
   "metadata": {},
   "outputs": [],
   "source": [
    "p=df.groupby('batch').cgpa.mean()#to group data batchwise but with the mean of their cgpa in each batch"
   ]
  },
  {
   "cell_type": "code",
   "execution_count": 48,
   "id": "ca60d013-83f6-4596-8fcd-29a6b6f41979",
   "metadata": {},
   "outputs": [
    {
     "data": {
      "text/plain": [
       "batch\n",
       "2020    3.203333\n",
       "2021    3.495000\n",
       "2023    2.750000\n",
       "2024    3.400000\n",
       "Name: cgpa, dtype: float64"
      ]
     },
     "execution_count": 48,
     "metadata": {},
     "output_type": "execute_result"
    }
   ],
   "source": [
    "p"
   ]
  },
  {
   "cell_type": "code",
   "execution_count": 49,
   "id": "7851783f-81c9-468c-8b13-17a52b5270e6",
   "metadata": {},
   "outputs": [],
   "source": [
    "p=df.groupby(['batch','department']).cgpa.mean()"
   ]
  },
  {
   "cell_type": "code",
   "execution_count": 50,
   "id": "ecb97573-7045-48c0-94c9-693faf1acd70",
   "metadata": {},
   "outputs": [
    {
     "data": {
      "text/plain": [
       "batch  department \n",
       "2020   Dpharm         3.700\n",
       "       cs             2.955\n",
       "2021   IT             2.990\n",
       "       english        4.000\n",
       "2023   IT             2.100\n",
       "       SE             3.400\n",
       "2024   Dpharm         3.700\n",
       "       SE             2.700\n",
       "       engineering    3.800\n",
       "Name: cgpa, dtype: float64"
      ]
     },
     "execution_count": 50,
     "metadata": {},
     "output_type": "execute_result"
    }
   ],
   "source": [
    "p"
   ]
  },
  {
   "cell_type": "code",
   "execution_count": null,
   "id": "acb2d1bc-9d4f-4dec-a77c-a667c6e480fb",
   "metadata": {},
   "outputs": [],
   "source": []
  }
 ],
 "metadata": {
  "kernelspec": {
   "display_name": "Python 3 (ipykernel)",
   "language": "python",
   "name": "python3"
  },
  "language_info": {
   "codemirror_mode": {
    "name": "ipython",
    "version": 3
   },
   "file_extension": ".py",
   "mimetype": "text/x-python",
   "name": "python",
   "nbconvert_exporter": "python",
   "pygments_lexer": "ipython3",
   "version": "3.11.7"
  }
 },
 "nbformat": 4,
 "nbformat_minor": 5
}
