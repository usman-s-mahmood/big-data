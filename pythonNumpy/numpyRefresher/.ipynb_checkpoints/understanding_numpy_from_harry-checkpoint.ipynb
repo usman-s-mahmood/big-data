{
 "cells": [
  {
   "cell_type": "code",
   "execution_count": 1,
   "id": "fc78d1de-fade-4871-b9a1-113d1abadcaf",
   "metadata": {},
   "outputs": [],
   "source": [
    "import numpy as np"
   ]
  },
  {
   "cell_type": "code",
   "execution_count": 2,
   "id": "fea7a7e5-bf4a-4fdc-94da-cf161cb3c4f7",
   "metadata": {},
   "outputs": [
    {
     "name": "stdout",
     "output_type": "stream",
     "text": [
      "Testing Numpy\n"
     ]
    }
   ],
   "source": [
    "print('Testing Numpy')"
   ]
  },
  {
   "cell_type": "code",
   "execution_count": 3,
   "id": "75f98b02-7c37-48c3-8760-0799e8a2965a",
   "metadata": {},
   "outputs": [],
   "source": [
    "np_array = np.array([1, 3, 4, 7, 10], np.int32)"
   ]
  },
  {
   "cell_type": "code",
   "execution_count": 4,
   "id": "c662140c-06e5-4b78-bf5c-b595f63251b5",
   "metadata": {},
   "outputs": [
    {
     "name": "stdout",
     "output_type": "stream",
     "text": [
      "[ 1  3  4  7 10]\n"
     ]
    }
   ],
   "source": [
    "print(np_array)"
   ]
  },
  {
   "cell_type": "code",
   "execution_count": 5,
   "id": "afd873cb-9e00-4575-a567-9bb0dfb9c678",
   "metadata": {},
   "outputs": [
    {
     "data": {
      "text/plain": [
       "(5,)"
      ]
     },
     "execution_count": 5,
     "metadata": {},
     "output_type": "execute_result"
    }
   ],
   "source": [
    "np_array.shape # for getting info of array, returns value in a tupple"
   ]
  },
  {
   "cell_type": "code",
   "execution_count": 7,
   "id": "c761cf48-f132-41ce-8894-2f80d19b6850",
   "metadata": {},
   "outputs": [],
   "source": [
    "np_array[0] = 11"
   ]
  },
  {
   "cell_type": "code",
   "execution_count": 8,
   "id": "ae9f9e85-c775-428e-8fd9-9fa569d63d6d",
   "metadata": {},
   "outputs": [
    {
     "data": {
      "text/plain": [
       "array([11,  3,  4,  7, 10])"
      ]
     },
     "execution_count": 8,
     "metadata": {},
     "output_type": "execute_result"
    }
   ],
   "source": [
    "np_array"
   ]
  },
  {
   "cell_type": "markdown",
   "id": "5375c48d-ae05-4b95-bc5b-7ebb432cc319",
   "metadata": {},
   "source": [
    "# Ways to create numpy array\n",
    "**Conversion from other python structures like lists or tuples**\n",
    "-----------------------------------------------------------------\n",
    "**Intrinsic numpy array creation objects (arrange, ones, zeros, etc.)**\n",
    "-----------------------------------------------------------------\n",
    "**Reading arrays from disks, either from standard or custom formats**\n",
    "-----------------------------------------------------------------\n",
    "**Creating Arrays from raw bytes through the use of strings or buffers**\n",
    "-----------------------------------------------------------------\n",
    "**Use of special library functions like random**\n",
    "-----------------------------------------------------------------"
   ]
  },
  {
   "cell_type": "markdown",
   "id": "a6f715b1-427a-409c-b306-069c0c9507e6",
   "metadata": {},
   "source": [
    "# Conversion from other Python structures"
   ]
  },
  {
   "cell_type": "code",
   "execution_count": 9,
   "id": "d09ea444-56a4-4161-8ba6-8931d6e3d946",
   "metadata": {},
   "outputs": [],
   "source": [
    "listArray = np.array([[1, 2, 3], [4,  5, 6], [7, 8, 9]])"
   ]
  },
  {
   "cell_type": "code",
   "execution_count": 10,
   "id": "68aabecb-d649-4732-8d69-087e6cc3024c",
   "metadata": {},
   "outputs": [
    {
     "data": {
      "text/plain": [
       "9"
      ]
     },
     "execution_count": 10,
     "metadata": {},
     "output_type": "execute_result"
    }
   ],
   "source": [
    "listArray.dtype; listArray.shape; listArray.size"
   ]
  },
  {
   "cell_type": "code",
   "execution_count": 11,
   "id": "9d82cbab-3729-4e2c-9c08-4b14190cf360",
   "metadata": {},
   "outputs": [
    {
     "name": "stdout",
     "output_type": "stream",
     "text": [
      "int32; (3, 3); 9\n"
     ]
    }
   ],
   "source": [
    "print(f'{listArray.dtype}; {listArray.shape}; {listArray.size}')"
   ]
  },
  {
   "cell_type": "code",
   "execution_count": 12,
   "id": "b3a0f07d-9e50-4985-9f71-0f994f155655",
   "metadata": {},
   "outputs": [
    {
     "data": {
      "text/plain": [
       "array({88, 33, 77, 55}, dtype=object)"
      ]
     },
     "execution_count": 12,
     "metadata": {},
     "output_type": "execute_result"
    }
   ],
   "source": [
    "np.array({33, 55, 77, 88}) # this will create an object type which is not efficient"
   ]
  },
  {
   "cell_type": "markdown",
   "id": "4110d437-93da-4f3d-9612-2d78360aa03d",
   "metadata": {},
   "source": [
    "# Intrinsic Numpy Array"
   ]
  },
  {
   "cell_type": "code",
   "execution_count": 13,
   "id": "925bdb46-6478-41fd-9fd0-2d7e5c4986e8",
   "metadata": {},
   "outputs": [],
   "source": [
    "zeros = np.zeros((2, 5)) # creates a numpy array of given size (row X column) filled with zeros"
   ]
  },
  {
   "cell_type": "code",
   "execution_count": 14,
   "id": "54d8009c-5445-4b93-8869-f3056d4216cd",
   "metadata": {},
   "outputs": [
    {
     "name": "stdout",
     "output_type": "stream",
     "text": [
      "[[0. 0. 0. 0. 0.]\n",
      " [0. 0. 0. 0. 0.]]\n"
     ]
    }
   ],
   "source": [
    "print(zeros)"
   ]
  },
  {
   "cell_type": "code",
   "execution_count": 15,
   "id": "1e34b43f-3d8a-41fa-b50c-0acde7ce7ede",
   "metadata": {},
   "outputs": [],
   "source": [
    "rng = np.arange(15) # returns a numpy array within the given range"
   ]
  },
  {
   "cell_type": "code",
   "execution_count": 16,
   "id": "4639a6b6-ab1e-493c-b09d-8065e0655ec5",
   "metadata": {},
   "outputs": [
    {
     "name": "stdout",
     "output_type": "stream",
     "text": [
      "[ 0  1  2  3  4  5  6  7  8  9 10 11 12 13 14]\n"
     ]
    }
   ],
   "source": [
    "print(rng)"
   ]
  },
  {
   "cell_type": "code",
   "execution_count": 17,
   "id": "210b60a2-7e6d-4ae3-94cb-b1dcdd65e4ea",
   "metadata": {},
   "outputs": [],
   "source": [
    "lsp = np.linspace(1, 50, 100) # gives equally linear elements from one range to another with in the size specified in third argument"
   ]
  },
  {
   "cell_type": "code",
   "execution_count": 18,
   "id": "7491f993-8499-41c3-9868-beac67977af7",
   "metadata": {},
   "outputs": [
    {
     "name": "stdout",
     "output_type": "stream",
     "text": [
      "[ 1.          1.49494949  1.98989899  2.48484848  2.97979798  3.47474747\n",
      "  3.96969697  4.46464646  4.95959596  5.45454545  5.94949495  6.44444444\n",
      "  6.93939394  7.43434343  7.92929293  8.42424242  8.91919192  9.41414141\n",
      "  9.90909091 10.4040404  10.8989899  11.39393939 11.88888889 12.38383838\n",
      " 12.87878788 13.37373737 13.86868687 14.36363636 14.85858586 15.35353535\n",
      " 15.84848485 16.34343434 16.83838384 17.33333333 17.82828283 18.32323232\n",
      " 18.81818182 19.31313131 19.80808081 20.3030303  20.7979798  21.29292929\n",
      " 21.78787879 22.28282828 22.77777778 23.27272727 23.76767677 24.26262626\n",
      " 24.75757576 25.25252525 25.74747475 26.24242424 26.73737374 27.23232323\n",
      " 27.72727273 28.22222222 28.71717172 29.21212121 29.70707071 30.2020202\n",
      " 30.6969697  31.19191919 31.68686869 32.18181818 32.67676768 33.17171717\n",
      " 33.66666667 34.16161616 34.65656566 35.15151515 35.64646465 36.14141414\n",
      " 36.63636364 37.13131313 37.62626263 38.12121212 38.61616162 39.11111111\n",
      " 39.60606061 40.1010101  40.5959596  41.09090909 41.58585859 42.08080808\n",
      " 42.57575758 43.07070707 43.56565657 44.06060606 44.55555556 45.05050505\n",
      " 45.54545455 46.04040404 46.53535354 47.03030303 47.52525253 48.02020202\n",
      " 48.51515152 49.01010101 49.50505051 50.        ]\n"
     ]
    }
   ],
   "source": [
    "print(lsp)"
   ]
  },
  {
   "cell_type": "code",
   "execution_count": 19,
   "id": "9978d016-71fb-4b70-a1cc-cff7c72017e1",
   "metadata": {},
   "outputs": [
    {
     "name": "stdout",
     "output_type": "stream",
     "text": [
      "[ 1. 10.]\n"
     ]
    }
   ],
   "source": [
    "lspc = np.linspace(1, 10, 2); print(lspc)"
   ]
  },
  {
   "cell_type": "code",
   "execution_count": 21,
   "id": "e43f9a3b-52c3-425a-848c-7a1ca0dcc5af",
   "metadata": {},
   "outputs": [],
   "source": [
    "emp = np.empty((5, 3)) # returns an array with random values of the specified rows and columns"
   ]
  },
  {
   "cell_type": "code",
   "execution_count": 22,
   "id": "b04e5404-8635-4e3b-ab51-ff477bcc64e3",
   "metadata": {},
   "outputs": [
    {
     "name": "stdout",
     "output_type": "stream",
     "text": [
      "[[0.000000e+000 0.000000e+000 0.000000e+000]\n",
      " [0.000000e+000 0.000000e+000 0.000000e+000]\n",
      " [0.000000e+000 0.000000e+000 0.000000e+000]\n",
      " [0.000000e+000 0.000000e+000 0.000000e+000]\n",
      " [0.000000e+000 0.000000e+000 3.496989e-317]]\n"
     ]
    }
   ],
   "source": [
    "print(emp)"
   ]
  },
  {
   "cell_type": "code",
   "execution_count": 23,
   "id": "032642bd-bce4-4898-96f7-93207089382d",
   "metadata": {},
   "outputs": [
    {
     "name": "stdout",
     "output_type": "stream",
     "text": [
      "[ 1.          1.49494949  1.98989899  2.48484848  2.97979798  3.47474747\n",
      "  3.96969697  4.46464646  4.95959596  5.45454545  5.94949495  6.44444444\n",
      "  6.93939394  7.43434343  7.92929293  8.42424242  8.91919192  9.41414141\n",
      "  9.90909091 10.4040404  10.8989899  11.39393939 11.88888889 12.38383838\n",
      " 12.87878788 13.37373737 13.86868687 14.36363636 14.85858586 15.35353535\n",
      " 15.84848485 16.34343434 16.83838384 17.33333333 17.82828283 18.32323232\n",
      " 18.81818182 19.31313131 19.80808081 20.3030303  20.7979798  21.29292929\n",
      " 21.78787879 22.28282828 22.77777778 23.27272727 23.76767677 24.26262626\n",
      " 24.75757576 25.25252525 25.74747475 26.24242424 26.73737374 27.23232323\n",
      " 27.72727273 28.22222222 28.71717172 29.21212121 29.70707071 30.2020202\n",
      " 30.6969697  31.19191919 31.68686869 32.18181818 32.67676768 33.17171717\n",
      " 33.66666667 34.16161616 34.65656566 35.15151515 35.64646465 36.14141414\n",
      " 36.63636364 37.13131313 37.62626263 38.12121212 38.61616162 39.11111111\n",
      " 39.60606061 40.1010101  40.5959596  41.09090909 41.58585859 42.08080808\n",
      " 42.57575758 43.07070707 43.56565657 44.06060606 44.55555556 45.05050505\n",
      " 45.54545455 46.04040404 46.53535354 47.03030303 47.52525253 48.02020202\n",
      " 48.51515152 49.01010101 49.50505051 50.        ]\n"
     ]
    }
   ],
   "source": [
    "emp_like = np.empty_like(lsp); print(emp_like) # this will return an array that has same dimensions as the given array"
   ]
  },
  {
   "cell_type": "code",
   "execution_count": 24,
   "id": "8be62266-9063-4e7f-a004-699a94cb8b21",
   "metadata": {},
   "outputs": [],
   "source": [
    "identity = np.identity(5) # will return an identity matrix of given size"
   ]
  },
  {
   "cell_type": "code",
   "execution_count": 25,
   "id": "0c0c95e0-6375-4256-ada3-4be4a90983ff",
   "metadata": {},
   "outputs": [
    {
     "name": "stdout",
     "output_type": "stream",
     "text": [
      "[[1. 0. 0. 0. 0.]\n",
      " [0. 1. 0. 0. 0.]\n",
      " [0. 0. 1. 0. 0.]\n",
      " [0. 0. 0. 1. 0.]\n",
      " [0. 0. 0. 0. 1.]]\n"
     ]
    }
   ],
   "source": [
    "print(identity)"
   ]
  },
  {
   "cell_type": "code",
   "execution_count": 26,
   "id": "34e993d2-f86f-4d66-bfbd-988931d6d6c9",
   "metadata": {},
   "outputs": [
    {
     "data": {
      "text/plain": [
       "array([0, 1, 2, 3, 4, 5, 6, 7, 8, 9])"
      ]
     },
     "execution_count": 26,
     "metadata": {},
     "output_type": "execute_result"
    }
   ],
   "source": [
    "arr = np.arange(10); arr"
   ]
  },
  {
   "cell_type": "code",
   "execution_count": 34,
   "id": "ec434bc2-2a7b-48ed-b1f7-45fe0663975d",
   "metadata": {},
   "outputs": [
    {
     "data": {
      "text/plain": [
       "(10,)"
      ]
     },
     "execution_count": 34,
     "metadata": {},
     "output_type": "execute_result"
    }
   ],
   "source": [
    "arr.reshape(5, 2); arr.shape # will reshape the given array if possible"
   ]
  },
  {
   "cell_type": "code",
   "execution_count": 29,
   "id": "7e13b786-02f2-45e7-bd43-0e1fc10e2adc",
   "metadata": {},
   "outputs": [
    {
     "data": {
      "text/plain": [
       "array([0, 1, 2, 3, 4, 5, 6, 7, 8, 9])"
      ]
     },
     "execution_count": 29,
     "metadata": {},
     "output_type": "execute_result"
    }
   ],
   "source": [
    "arr.ravel() # this will convert an array to linear 1D Array"
   ]
  },
  {
   "cell_type": "code",
   "execution_count": 31,
   "id": "7b853df3-bf86-4038-bd01-01195b170731",
   "metadata": {},
   "outputs": [
    {
     "data": {
      "text/plain": [
       "(10,)"
      ]
     },
     "execution_count": 31,
     "metadata": {},
     "output_type": "execute_result"
    }
   ],
   "source": [
    "arr.shape"
   ]
  },
  {
   "cell_type": "code",
   "execution_count": 32,
   "id": "0c20e049-bc15-4ff7-bc74-dbad41bc8c1d",
   "metadata": {},
   "outputs": [
    {
     "data": {
      "text/plain": [
       "array([0, 1, 2, 3, 4, 5, 6, 7, 8, 9])"
      ]
     },
     "execution_count": 32,
     "metadata": {},
     "output_type": "execute_result"
    }
   ],
   "source": [
    "arr"
   ]
  },
  {
   "cell_type": "markdown",
   "id": "7d296e02-8f4a-433f-a503-e8746b9cbf51",
   "metadata": {},
   "source": [
    "# Understanding Axis in numpy array"
   ]
  },
  {
   "cell_type": "code",
   "execution_count": 35,
   "id": "327580d8-38f8-4346-b7c1-c49738fa7df0",
   "metadata": {},
   "outputs": [],
   "source": [
    "axis = np.array([\n",
    "    [1, 2, 3],\n",
    "    [4, 5, 6],\n",
    "    [7, 1, 0]\n",
    "])"
   ]
  },
  {
   "cell_type": "code",
   "execution_count": 36,
   "id": "a7c1f47d-5bed-41e5-b8a8-ec1ae109d6c1",
   "metadata": {},
   "outputs": [
    {
     "data": {
      "text/plain": [
       "array([12,  8,  9])"
      ]
     },
     "execution_count": 36,
     "metadata": {},
     "output_type": "execute_result"
    }
   ],
   "source": [
    "axis.sum(axis=0) # will return the sum of all elements in column wise order"
   ]
  },
  {
   "cell_type": "code",
   "execution_count": 37,
   "id": "c81d38db-c264-45e6-ac1a-e79f2d7a7bc8",
   "metadata": {},
   "outputs": [
    {
     "data": {
      "text/plain": [
       "array([ 6, 15,  8])"
      ]
     },
     "execution_count": 37,
     "metadata": {},
     "output_type": "execute_result"
    }
   ],
   "source": [
    "axis.sum(axis=1) # will return sum of elements in row wise order"
   ]
  },
  {
   "cell_type": "code",
   "execution_count": 38,
   "id": "d38ef206-107c-4ddc-bbf4-3c9f144af046",
   "metadata": {},
   "outputs": [
    {
     "data": {
      "text/plain": [
       "array([[1, 4, 7],\n",
       "       [2, 5, 1],\n",
       "       [3, 6, 0]])"
      ]
     },
     "execution_count": 38,
     "metadata": {},
     "output_type": "execute_result"
    }
   ],
   "source": [
    "axis.T # will transpose the 2D array"
   ]
  },
  {
   "cell_type": "code",
   "execution_count": 39,
   "id": "3aec8136-45a3-4be1-b82f-3a3590ed3a6a",
   "metadata": {},
   "outputs": [],
   "source": [
    "new_arr = np.array(axis)"
   ]
  },
  {
   "cell_type": "code",
   "execution_count": 40,
   "id": "8a99fdf1-fc27-4a06-b343-fe19048cf388",
   "metadata": {},
   "outputs": [
    {
     "name": "stdout",
     "output_type": "stream",
     "text": [
      "<numpy.flatiter object at 0x000001CC568773F0>\n"
     ]
    }
   ],
   "source": [
    "print(new_arr.flat) # will convert an array into flat structure"
   ]
  },
  {
   "cell_type": "code",
   "execution_count": 43,
   "id": "ac7434c4-71ef-452b-9cfd-edf684dc3e8a",
   "metadata": {},
   "outputs": [
    {
     "name": "stdout",
     "output_type": "stream",
     "text": [
      "1\n",
      "2\n",
      "3\n",
      "4\n",
      "5\n",
      "6\n",
      "7\n",
      "1\n",
      "0\n"
     ]
    }
   ],
   "source": [
    "l1 = [print(i) for i in new_arr.flat]"
   ]
  },
  {
   "cell_type": "code",
   "execution_count": 44,
   "id": "5cc7bbbf-e530-429e-87d0-78218c1e58d8",
   "metadata": {},
   "outputs": [
    {
     "data": {
      "text/plain": [
       "2"
      ]
     },
     "execution_count": 44,
     "metadata": {},
     "output_type": "execute_result"
    }
   ],
   "source": [
    "axis.ndim # returns the dimensions of a numpy array"
   ]
  },
  {
   "cell_type": "code",
   "execution_count": 45,
   "id": "d67e2a2d-c664-410d-8f5a-34e74a88de88",
   "metadata": {},
   "outputs": [
    {
     "data": {
      "text/plain": [
       "9"
      ]
     },
     "execution_count": 45,
     "metadata": {},
     "output_type": "execute_result"
    }
   ],
   "source": [
    "axis.size # returns the size of numpy array in terms of number of elements contained in the array"
   ]
  },
  {
   "cell_type": "code",
   "execution_count": 46,
   "id": "76abe967-9476-4714-87f2-56b7fd5bf347",
   "metadata": {},
   "outputs": [
    {
     "data": {
      "text/plain": [
       "36"
      ]
     },
     "execution_count": 46,
     "metadata": {},
     "output_type": "execute_result"
    }
   ],
   "source": [
    "axis.nbytes # returns total bytes consumed by the elements of a numpy array"
   ]
  },
  {
   "cell_type": "code",
   "execution_count": 50,
   "id": "859ac192-fee2-4221-a4b0-c699a0aade73",
   "metadata": {},
   "outputs": [
    {
     "name": "stdout",
     "output_type": "stream",
     "text": [
      "0\n"
     ]
    }
   ],
   "source": [
    "one = np.array([100, 13, 4, 1, 7])\n",
    "print(one.argmax()) # returns the index of element that is largest in the numpy array"
   ]
  },
  {
   "cell_type": "code",
   "execution_count": 51,
   "id": "7f2bdf55-c27e-404b-aa43-da854477d835",
   "metadata": {},
   "outputs": [
    {
     "name": "stdout",
     "output_type": "stream",
     "text": [
      "3\n"
     ]
    }
   ],
   "source": [
    "print(one.argmin()) # returns the index of element that is smallest"
   ]
  },
  {
   "cell_type": "code",
   "execution_count": 53,
   "id": "d61bd428-bfaa-4d3e-b511-10ef9c321ad8",
   "metadata": {},
   "outputs": [
    {
     "data": {
      "text/plain": [
       "array([3, 2, 4, 1, 0], dtype=int64)"
      ]
     },
     "execution_count": 53,
     "metadata": {},
     "output_type": "execute_result"
    }
   ],
   "source": [
    "one.argsort() # sorts the numpy array in descending order"
   ]
  },
  {
   "cell_type": "code",
   "execution_count": 55,
   "id": "ca61856d-ed46-4f8f-90ba-1ed9b2368dad",
   "metadata": {},
   "outputs": [
    {
     "name": "stdout",
     "output_type": "stream",
     "text": [
      "8 6\n"
     ]
    }
   ],
   "source": [
    "print(f'{axis.argmin()} {axis.argmax()}') # will first convert the 2d numpy array into a flat array and then return the indexes"
   ]
  },
  {
   "cell_type": "code",
   "execution_count": 56,
   "id": "44fee029-6332-419d-a98e-17839f798d98",
   "metadata": {},
   "outputs": [
    {
     "name": "stdout",
     "output_type": "stream",
     "text": [
      "[2 2 0] [2 2 0]\n"
     ]
    }
   ],
   "source": [
    "print(f'{axis.argmax(axis= 1)} {axis.argmax(axis= 1)}') # for column wise and row wise"
   ]
  },
  {
   "cell_type": "code",
   "execution_count": 57,
   "id": "66cd3570-055a-4766-85cd-2339a621b9fe",
   "metadata": {},
   "outputs": [
    {
     "name": "stdout",
     "output_type": "stream",
     "text": [
      "[[1 2 3]\n",
      " [4 5 6]\n",
      " [7 1 0]]\n"
     ]
    }
   ],
   "source": [
    "print(axis)"
   ]
  },
  {
   "cell_type": "code",
   "execution_count": 58,
   "id": "f987da8e-a657-4870-afff-a3056242ef99",
   "metadata": {},
   "outputs": [
    {
     "data": {
      "text/plain": [
       "array([[0, 1, 2],\n",
       "       [0, 1, 2],\n",
       "       [2, 1, 0]], dtype=int64)"
      ]
     },
     "execution_count": 58,
     "metadata": {},
     "output_type": "execute_result"
    }
   ],
   "source": [
    "axis.argsort()"
   ]
  },
  {
   "cell_type": "markdown",
   "id": "e2411dc5-3f8a-44d3-9a7f-c2267650f304",
   "metadata": {},
   "source": [
    "# Mathematical functions with numpy array"
   ]
  },
  {
   "cell_type": "code",
   "execution_count": 60,
   "id": "7ae67583-71d7-48f4-9419-b6e154c4325b",
   "metadata": {},
   "outputs": [
    {
     "data": {
      "text/plain": [
       "array([[ 6,  8],\n",
       "       [10, 12]])"
      ]
     },
     "execution_count": 60,
     "metadata": {},
     "output_type": "execute_result"
    }
   ],
   "source": [
    "arr1 = np.array([\n",
    "    [1, 2],\n",
    "    [3, 4]\n",
    "])\n",
    "arr2 = np.array ( [\n",
    "    [5, 6],\n",
    "    [7, 8]\n",
    "])\n",
    "arr1 + arr2 # will add the values of both arrays"
   ]
  },
  {
   "cell_type": "code",
   "execution_count": 61,
   "id": "1297b5e1-a6be-4398-a6ec-5de1a0764005",
   "metadata": {},
   "outputs": [
    {
     "data": {
      "text/plain": [
       "[[1, 2], [3, 4], [5, 6], [7, 8]]"
      ]
     },
     "execution_count": 61,
     "metadata": {},
     "output_type": "execute_result"
    }
   ],
   "source": [
    "[\n",
    "    [1, 2],\n",
    "    [3, 4]\n",
    "] + [\n",
    "    [5, 6],\n",
    "    [7, 8]\n",
    "]"
   ]
  },
  {
   "cell_type": "code",
   "execution_count": 63,
   "id": "bd43fd6c-c118-4711-bb91-15983007f794",
   "metadata": {},
   "outputs": [
    {
     "name": "stdout",
     "output_type": "stream",
     "text": [
      "[[1 2]\n",
      " [3 4]]\n",
      "[[5 6]\n",
      " [7 8]]\n"
     ]
    },
    {
     "data": {
      "text/plain": [
       "array([[ 5, 12],\n",
       "       [21, 32]])"
      ]
     },
     "execution_count": 63,
     "metadata": {},
     "output_type": "execute_result"
    }
   ],
   "source": [
    "print(arr1)\n",
    "print(arr2)\n",
    "arr1*arr2"
   ]
  },
  {
   "cell_type": "code",
   "execution_count": 64,
   "id": "9f08343b-5656-4cd0-b9d4-0062ef4d0f84",
   "metadata": {},
   "outputs": [
    {
     "data": {
      "text/plain": [
       "array([[1.        , 1.41421356],\n",
       "       [1.73205081, 2.        ]])"
      ]
     },
     "execution_count": 64,
     "metadata": {},
     "output_type": "execute_result"
    }
   ],
   "source": [
    "np.sqrt(arr1) # returns the element wise square root of all elements"
   ]
  },
  {
   "cell_type": "code",
   "execution_count": 67,
   "id": "defc063a-f34e-4fb6-b1c5-6f5a9b0c9d09",
   "metadata": {},
   "outputs": [
    {
     "name": "stdout",
     "output_type": "stream",
     "text": [
      "10 1 4\n"
     ]
    }
   ],
   "source": [
    "print(f'{arr1.sum()} {arr1.min()} {arr1.max()}')"
   ]
  },
  {
   "cell_type": "code",
   "execution_count": 68,
   "id": "f56e8649-779e-4d87-b27b-35eeae262ce3",
   "metadata": {},
   "outputs": [
    {
     "data": {
      "text/plain": [
       "(array([1], dtype=int64), array([1], dtype=int64))"
      ]
     },
     "execution_count": 68,
     "metadata": {},
     "output_type": "execute_result"
    }
   ],
   "source": [
    "np.where(arr1>3) # return the indexes of elements that are greater than given values"
   ]
  },
  {
   "cell_type": "code",
   "execution_count": 69,
   "id": "918f3879-5a78-4618-8d57-e961e4ed58ad",
   "metadata": {},
   "outputs": [
    {
     "data": {
      "text/plain": [
       "4"
      ]
     },
     "execution_count": 69,
     "metadata": {},
     "output_type": "execute_result"
    }
   ],
   "source": [
    "np.count_nonzero(arr1) # returns count of all non zero elements"
   ]
  },
  {
   "cell_type": "code",
   "execution_count": 70,
   "id": "27539df9-80d0-42db-abb5-8e0582fb192e",
   "metadata": {},
   "outputs": [
    {
     "data": {
      "text/plain": [
       "(array([0, 0, 1, 1], dtype=int64), array([0, 1, 0, 1], dtype=int64))"
      ]
     },
     "execution_count": 70,
     "metadata": {},
     "output_type": "execute_result"
    }
   ],
   "source": [
    "np.nonzero(arr1) # returns indexes of all non zero elements"
   ]
  },
  {
   "cell_type": "code",
   "execution_count": 71,
   "id": "0b4af937-a528-4419-b380-bc6da786e8e0",
   "metadata": {},
   "outputs": [],
   "source": [
    "import sys"
   ]
  },
  {
   "cell_type": "code",
   "execution_count": 73,
   "id": "fce76a13-9b75-48f0-bfd8-4a30f98c71ef",
   "metadata": {},
   "outputs": [
    {
     "name": "stdout",
     "output_type": "stream",
     "text": [
      "112\n",
      "20\n"
     ]
    }
   ],
   "source": [
    "py_arr = [1, 3, 5, 7]\n",
    "np_arr = np.array(py_arr)\n",
    "print(sys.getsizeof(1) * len(py_arr))\n",
    "print(np_arr.itemsize * np_array.size)"
   ]
  },
  {
   "cell_type": "code",
   "execution_count": 74,
   "id": "44c19af2-244c-406b-b05b-0111ec4d7251",
   "metadata": {},
   "outputs": [
    {
     "data": {
      "text/plain": [
       "[1, 3, 5, 7]"
      ]
     },
     "execution_count": 74,
     "metadata": {},
     "output_type": "execute_result"
    }
   ],
   "source": [
    "np_arr.tolist() # converts a numpy array to a python list"
   ]
  },
  {
   "cell_type": "code",
   "execution_count": null,
   "id": "d2a6d5ad-1b79-4899-b42f-061d51e0ae86",
   "metadata": {},
   "outputs": [],
   "source": []
  }
 ],
 "metadata": {
  "kernelspec": {
   "display_name": "Python 3 (ipykernel)",
   "language": "python",
   "name": "python3"
  },
  "language_info": {
   "codemirror_mode": {
    "name": "ipython",
    "version": 3
   },
   "file_extension": ".py",
   "mimetype": "text/x-python",
   "name": "python",
   "nbconvert_exporter": "python",
   "pygments_lexer": "ipython3",
   "version": "3.12.1"
  }
 },
 "nbformat": 4,
 "nbformat_minor": 5
}
